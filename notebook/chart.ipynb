{
 "metadata": {
  "name": "",
  "signature": "sha256:151ecb468534087a04e11f64b945945825db79880bc03a50ad810f5547537a17"
 },
 "nbformat": 3,
 "nbformat_minor": 0,
 "worksheets": [
  {
   "cells": [
    {
     "cell_type": "code",
     "collapsed": false,
     "input": [
      "\n",
      "\n",
      "%matplotlib inline\n",
      "from math import sin, pi\n",
      "import random\n",
      "import chart\n",
      "from matplotlib import rcParams\n",
      "rcParams.update({'font.size': 12})\n",
      "\n"
     ],
     "language": "python",
     "metadata": {},
     "outputs": []
    },
    {
     "cell_type": "code",
     "collapsed": false,
     "input": [
      "x = range(0,10)\n",
      "print(x)"
     ],
     "language": "python",
     "metadata": {},
     "outputs": [],
     "prompt_number": 2
    },
    {
     "cell_type": "code",
     "collapsed": false,
     "input": [],
     "language": "python",
     "metadata": {},
     "outputs": []
    }
   ],
   "metadata": {}
  }
 ]
}